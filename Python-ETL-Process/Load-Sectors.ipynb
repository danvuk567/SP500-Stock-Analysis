{
 "cells": [
  {
   "cell_type": "code",
   "execution_count": 1,
   "id": "73b82c84",
   "metadata": {},
   "outputs": [],
   "source": [
    "import sqlalchemy as sa\n",
    "import os\n",
    "import sys\n",
    "import urllib.parse as url\n",
    "import pandas as pd"
   ]
  },
  {
   "cell_type": "code",
   "execution_count": 3,
   "id": "321ec068",
   "metadata": {},
   "outputs": [],
   "source": [
    "username = os.getlogin()\n",
    "external_folder_path = 'C:/Users/' + username + '/Documents/Projects/Financial_Securities/Custom_Python_Functions/'\n",
    "sys.path.append(external_folder_path)\n",
    "from custom_python_functions import create_connection, load_key, decrypt\n",
    "\n",
    "key1 = 'user_key.ky'\n",
    "key_file1 = 'user_key.txt'\n",
    "key2 = 'pass_key.ky'\n",
    "key_file2 = 'pass_key.txt'\n",
    "\n",
    "key1 = load_key(external_folder_path, key1)\n",
    "uid = decrypt(external_folder_path, key_file1, key1)\n",
    "\n",
    "key2 = load_key(external_folder_path, key2)\n",
    "passwd = decrypt(external_folder_path, key_file2, key2)\n",
    "\n",
    "# Setup connection parameters\n",
    "server = 'danvuk.database.windows.net'\n",
    "dbase = 'Financial_Securities'\n",
    "\n",
    "# Create a connection to the database\n",
    "s, e = create_connection(server, dbase, uid, passwd)\n",
    "s1 = s()  # Instantiate a session object"
   ]
  },
  {
   "cell_type": "code",
   "execution_count": 4,
   "id": "157db162",
   "metadata": {},
   "outputs": [],
   "source": [
    "# SQL query to select values and trim description field from the Data_STG table\n",
    "sql_stat = \"\"\"SELECT \n",
    "               Int_Value1, \n",
    "               TRIM(Description) AS Description\n",
    "              FROM [Financial_Securities].[Equities].[Data_STG]\n",
    "              ORDER BY Int_Value1\"\"\"\n",
    "\n",
    "try:              \n",
    "    df_sectors = pd.read_sql(sql_stat, s1.bind)   # Execute the SQL query through the session and bind the data to the df_sectors dataframe\n",
    "\n",
    "# Handle SQLAlchemy errors if they occur during query execution\n",
    "except sa.exc.SQLAlchemyError as e:\n",
    "        # Print the error\n",
    "        print(f\"Issue querying Data_STG database table for count! Error: {e}\")\n",
    "        s1.close()  # Close the session\n",
    "        raise  # Re-raise the exception to propagate the error\n"
   ]
  },
  {
   "cell_type": "code",
   "execution_count": 5,
   "id": "12f2af11",
   "metadata": {},
   "outputs": [],
   "source": [
    "Base = sa.orm.declarative_base()\n",
    "\n",
    "class Sectors(Base):\n",
    "    \n",
    "    \"\"\"\n",
    "    SQLAlchemy ORM class representing the 'Sectors' table in the 'Equities' schema.\n",
    "\n",
    "    Attributes:\n",
    "    __tablename__ (str): The name of the table in the database.\n",
    "    __table_args__ (dict): Additional arguments for the table, including schema name.\n",
    "    Sector_ID (Column): A unique identifier for each sector; primary key.\n",
    "    Name (Column): The name of the sector.\n",
    "    \"\"\"\n",
    "    \n",
    "    __tablename__ = 'Sectors'\n",
    "    __table_args__ = {'schema': 'Equities'}\n",
    "    Sector_ID = sa.Column(sa.Integer, primary_key=True, autoincrement=False)\n",
    "    Name = sa.Column(sa.String)"
   ]
  },
  {
   "cell_type": "code",
   "execution_count": 6,
   "id": "f3c46066",
   "metadata": {},
   "outputs": [
    {
     "name": "stdout",
     "output_type": "stream",
     "text": [
      "Database data load is complete\n"
     ]
    }
   ],
   "source": [
    "for index, row in df_sectors.iterrows():\n",
    "    try:\n",
    "        \n",
    "        # Query the 'Sectors' table to find records where the 'Sector_ID' column matches the value in the DataFrame's 'Int_Value1' column\n",
    "        q1 = s1.query(Sectors).filter(Sectors.Sector_ID == row.Int_Value1)\n",
    "\n",
    "        # Check if any records were found with the specified 'Sector_ID'\n",
    "        if (q1.count() >= 1):\n",
    "            # If one or more records are found, get the first matching record\n",
    "            q1 = s1.query(Sectors).filter(Sectors.Sector_ID == row.Int_Value1).first()\n",
    "            # Update the 'Name' attribute of the found record with the value from the DataFrame's 'Description' column\n",
    "            q1.Name = row['Description']\n",
    "            \n",
    "        else:\n",
    "\n",
    "            # Create a new Sectors object for each row in df_sectors dataframe\n",
    "            q1 = Sectors(\n",
    "                Sector_ID=row['Int_Value1'],\n",
    "                Name=row['Description']\n",
    "            )\n",
    "            s1.add(q1)  # Add the instance to the session\n",
    "    \n",
    "     # Handle SQLAlchemy errors if they occur during adding the object\n",
    "    except sa.exc.SQLAlchemyError as e:\n",
    "        message = f\"Issue with updating Sector database table for Name: {row.Description}. Error: {e}\"\n",
    "        print(message)\n",
    "        s1.close()  # Close the session\n",
    "        raise  # Re-raise the exception to propagate the error\n",
    "\n",
    "\n",
    "s1.commit()  # Commit the transactions to the database\n",
    "\n",
    "print(\"Database data load is complete\")\n"
   ]
  },
  {
   "cell_type": "code",
   "execution_count": 7,
   "id": "42fac314",
   "metadata": {},
   "outputs": [],
   "source": [
    "# SQL query to count the number of records in the Data_STG table\n",
    "sql_stat2 = \"\"\"SELECT COUNT(*) FROM [Financial_Securities].[Equities].[Data_STG]\"\"\"\n",
    "          \n",
    "try: \n",
    "    result1 = e.execute(sql_stat2)  # Execute the count query\n",
    "    cnt_recs1 = result1.scalar()  # Get the count of records\n",
    "\n",
    "# Handle SQLAlchemy errors if they occur during query execution\n",
    "except sa.exc.SQLAlchemyError as e:\n",
    "    print(f\"Issue querying Data_STG database table for count! Error: {e}\")\n"
   ]
  },
  {
   "cell_type": "code",
   "execution_count": 8,
   "id": "0dbea8ac",
   "metadata": {},
   "outputs": [],
   "source": [
    "# SQL query to count the number of records in the Sectors table\n",
    "sql_stat3 = \"\"\"SELECT COUNT(*) FROM [Financial_Securities].[Equities].[Sectors]\"\"\"\n",
    "              \n",
    "try: \n",
    "    result1 = e.execute(sql_stat3)  # Execute the count query\n",
    "    cnt_recs2 = result1.scalar()  # Get the count of records\n",
    "\n",
    "# Handle SQLAlchemy errors if they occur during query execution    \n",
    "except sa.exc.SQLAlchemyError as e:\n",
    "    print(f\"Issue querying Sectors database table for count! Error: {e}\")"
   ]
  },
  {
   "cell_type": "code",
   "execution_count": 9,
   "id": "ba553092",
   "metadata": {},
   "outputs": [
    {
     "name": "stdout",
     "output_type": "stream",
     "text": [
      "All 11 records were loaded into Sectors database table!\n"
     ]
    }
   ],
   "source": [
    "# Compare the record counts and print the result\n",
    "if cnt_recs2 < cnt_recs1:\n",
    "    print(f\"Only {cnt_recs2} of {cnt_recs1} records were loaded into Sectors database table!\")\n",
    "else:\n",
    "    print(f\"All {cnt_recs2} records were loaded into Sectors database table!\")         \n",
    "\n",
    "s1.close()  # Close the session"
   ]
  }
 ],
 "metadata": {
  "kernelspec": {
   "display_name": "ib3.9 Kernel",
   "language": "python",
   "name": "ib3.9"
  },
  "language_info": {
   "codemirror_mode": {
    "name": "ipython",
    "version": 3
   },
   "file_extension": ".py",
   "mimetype": "text/x-python",
   "name": "python",
   "nbconvert_exporter": "python",
   "pygments_lexer": "ipython3",
   "version": "3.9.12"
  }
 },
 "nbformat": 4,
 "nbformat_minor": 5
}
