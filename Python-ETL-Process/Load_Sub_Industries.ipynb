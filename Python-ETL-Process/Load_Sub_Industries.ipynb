{
 "cells": [
  {
   "cell_type": "code",
   "execution_count": 1,
   "id": "07ef8a40",
   "metadata": {},
   "outputs": [],
   "source": [
    "import sqlalchemy as sa\n",
    "import os\n",
    "import sys\n",
    "import urllib.parse as url\n",
    "import pandas as pd"
   ]
  },
  {
   "cell_type": "code",
   "execution_count": 2,
   "id": "969d73a5",
   "metadata": {},
   "outputs": [],
   "source": [
    "# Setup connection parameters\n",
    "comp = os.environ[\"COMPUTERNAME\"]  # Get the computer name from environment variables\n",
    "dbase = \"Financial_Securities\"     # Define the name of the database\n",
    "\n",
    "username = os.getlogin()\n",
    "external_folder_path = 'C:/Users/' + username + '/Documents/Projects/Financial_Securities/Custom_Python_Functions'\n",
    "sys.path.append(external_folder_path)\n",
    "from custom_python_functions import create_connection, clear_table\n",
    "\n",
    "\n",
    "# Create a connection to the database\n",
    "s, e = create_connection(comp, dbase, \"\", \"\")\n",
    "s1 = s()  # Instantiate a session object"
   ]
  },
  {
   "cell_type": "code",
   "execution_count": 3,
   "id": "e2b5cb26",
   "metadata": {},
   "outputs": [],
   "source": [
    "Base = sa.orm.declarative_base()\n",
    "\n",
    "class Sub_Industries(Base):\n",
    "    \n",
    "    \"\"\"\n",
    "    SQLAlchemy ORM class representing the 'Sub_Industries' table in the 'Equities' schema.\n",
    "\n",
    "    Attributes:\n",
    "    __tablename__ (str): The name of the table in the database.\n",
    "    __table_args__ (dict): Additional arguments for the table, including schema name.\n",
    "    Sub_Industry_ID (Column): A unique identifier for each sub-industry; primary key.\n",
    "    Name (Column): The name of the industry.\n",
    "    Industry_ID (Column): The Industry_ID of the sub-industry.\n",
    "    \"\"\"\n",
    "    \n",
    "    __tablename__ = 'Sub_Industries'\n",
    "    __table_args__ = {'schema': 'Equities'}\n",
    "    Sub_Industry_ID = sa.Column(sa.Integer, primary_key=True, autoincrement=False)\n",
    "    Name = sa.Column(sa.String)\n",
    "    Industry_ID = sa.Column(sa.Integer)"
   ]
  },
  {
   "cell_type": "code",
   "execution_count": 4,
   "id": "53c2e0f3",
   "metadata": {},
   "outputs": [],
   "source": [
    "# SQL query to select and trim description fields from the Data_STG table\n",
    "sql_stat = \"\"\"SELECT \n",
    "               Int_Value1, \n",
    "               TRIM(Description) AS Description,\n",
    "\t\t\t   Int_Value2\n",
    "              FROM [Financial_Securities].[Equities].[Data_STG]\n",
    "              ORDER BY Int_Value1\"\"\"\n",
    "\n",
    "try:              \n",
    "    df_sub_industries = pd.read_sql(sql_stat, s1.bind)   # Execute the SQL query through the session and bind the data to the df_sub_industries dataframe\n",
    "    \n",
    "# Handle SQLAlchemy errors if they occur during query execution\n",
    "except sa.exc.SQLAlchemyError as e:\n",
    "        # Print the error\n",
    "        print(f\"Issue querying Data_STG database table for count! Error: {e}\")\n",
    "        s1.close()  # Close the session\n",
    "        raise  # Re-raise the exception to propagate the error\n",
    "        "
   ]
  },
  {
   "cell_type": "code",
   "execution_count": 5,
   "id": "df3be93c",
   "metadata": {},
   "outputs": [],
   "source": [
    "for index, row in df_sub_industries.iterrows():\n",
    "    try:\n",
    "        \n",
    "        # Query the 'Industries' table to find records where the 'Industry_ID' column matches the value in the DataFrame's 'Int_Value1' column\n",
    "        q1 = s1.query(Sub_Industries).filter(Sub_Industries.Sub_Industry_ID == row.Int_Value1)\n",
    "\n",
    "        # Check if any records were found with the specified 'Sector_ID'\n",
    "        if (q1.count() >= 1):\n",
    "            # If one or more records are found, get the first matching record\n",
    "            q1 = s1.query(Sub_Industries).filter(Sub_Industries.Sub_Industry_ID == row.Int_Value1).first()\n",
    "            # Update the 'Name' attribute of the found record with the value from the DataFrame's 'Description' column\n",
    "            q1.Name = row['Description']\n",
    "            # Update the 'Sub_Industry_ID' attribute of the found record with the value from the DataFrame's 'Int_Value2' column\n",
    "            q1.Industry_ID = row['Int_Value2']\n",
    "            \n",
    "        else:\n",
    "\n",
    "            # Create a new Industries object for each row in df_industries dataframe\n",
    "            q1 = Sub_Industries(\n",
    "                Sub_Industry_ID=row['Int_Value1'],\n",
    "                Name=row['Description'],\n",
    "                Industry_ID=row['Int_Value2']\n",
    "            )\n",
    "            s1.add(q1)  # Add the instance to the session\n",
    "    \n",
    "    # Handle SQLAlchemy errors if they occur during adding the object\n",
    "    except sa.exc.SQLAlchemyError as e:\n",
    "        message = f\"Issue with updating Sub_Industries database table for Name: {row.Description}. Error: {e}\"\n",
    "        print(message)\n",
    "        s1.close()  # Close the session\n",
    "        raise  # Re-raise the exception to propagate the error\n",
    "\n",
    "\n",
    "s1.commit()  # Commit the transactions to the database\n",
    "\n",
    "print(\"Database data load is complete\")\n"
   ]
  },
  {
   "cell_type": "code",
   "execution_count": 6,
   "id": "95b7d987",
   "metadata": {},
   "outputs": [
    {
     "name": "stdout",
     "output_type": "stream",
     "text": [
      "All 163 records were loaded into Sub_Industries database table!\n"
     ]
    }
   ],
   "source": [
    "# SQL query to count the number of records in the Data_STG table\n",
    "sql_stat2 = \"\"\"SELECT COUNT(*) FROM [Financial_Securities].[Equities].[Data_STG]\"\"\"\n",
    "          \n",
    "try: \n",
    "    result1 = e.execute(sql_stat2)  # Execute the count query\n",
    "    cnt_recs1 = result1.scalar()  # Get the count of records\n",
    "    \n",
    "# Handle SQLAlchemy errors if they occur during query execution\n",
    "except sa.exc.SQLAlchemyError as e:\n",
    "    print(f\"Issue querying Data_STG database table for count! Error: {e}\")\n",
    "\n",
    "\n",
    "# SQL query to count the number of records in the Sub_Industries table\n",
    "sql_stat3 = \"\"\"SELECT COUNT(*) FROM [Financial_Securities].[Equities].[Sub_Industries]\"\"\"\n",
    "              \n",
    "try: \n",
    "    result1 = e.execute(sql_stat3)  # Execute the count query\n",
    "    cnt_recs2 = result1.scalar()  # Get the count of records\n",
    "    \n",
    "# Handle SQLAlchemy errors if they occur during query execution\n",
    "except sa.exc.SQLAlchemyError as e:   \n",
    "    print(f\"Issue querying Sub_Industries database table for count! Error: {e}\")\n",
    "\n",
    "# Compare the record counts and print the result\n",
    "if cnt_recs2 < cnt_recs1:\n",
    "    print(f\"Only {cnt_recs2} of {cnt_recs1} records were loaded into Sub_Industries database table!\")\n",
    "else:\n",
    "    print(f\"All {cnt_recs2} records were loaded into Sub_Industries database table!\") "
   ]
  },
  {
   "cell_type": "code",
   "execution_count": 7,
   "id": "f1c74894",
   "metadata": {},
   "outputs": [],
   "source": [
    "s1.close()  # Close the session"
   ]
  },
  {
   "cell_type": "code",
   "execution_count": null,
   "id": "35add30f",
   "metadata": {},
   "outputs": [],
   "source": []
  }
 ],
 "metadata": {
  "kernelspec": {
   "display_name": "ib3.9 Kernel",
   "language": "python",
   "name": "ib3.9"
  },
  "language_info": {
   "codemirror_mode": {
    "name": "ipython",
    "version": 3
   },
   "file_extension": ".py",
   "mimetype": "text/x-python",
   "name": "python",
   "nbconvert_exporter": "python",
   "pygments_lexer": "ipython3",
   "version": "3.9.12"
  }
 },
 "nbformat": 4,
 "nbformat_minor": 5
}
