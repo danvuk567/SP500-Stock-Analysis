{
 "cells": [
  {
   "cell_type": "code",
   "execution_count": 12,
   "id": "ab3efd06",
   "metadata": {},
   "outputs": [],
   "source": [
    "import datetime as dt\n",
    "import sqlalchemy as sa\n",
    "import os\n",
    "import sys\n",
    "import pandas as pd"
   ]
  },
  {
   "cell_type": "code",
   "execution_count": 13,
   "id": "a09643fe",
   "metadata": {},
   "outputs": [],
   "source": [
    "# Setup connection parameters\n",
    "comp = os.environ[\"COMPUTERNAME\"]  # Get the computer name from environment variables\n",
    "dbase = \"Financial_Securities\"     # Define the name of the database\n",
    "\n",
    "username = os.getlogin()\n",
    "external_folder_path = 'C:/Users/' + username + '/Documents/Projects/Financial_Securities/Custom_Python_Functions'\n",
    "sys.path.append(external_folder_path)\n",
    "from custom_python_functions import create_connection, clear_table\n",
    "\n",
    "\n",
    "# Create a connection to the database\n",
    "s, e = create_connection(comp, dbase, \"\", \"\")\n",
    "s1 = s()  # Instantiate a session object"
   ]
  },
  {
   "cell_type": "code",
   "execution_count": 14,
   "id": "bbebd53f",
   "metadata": {},
   "outputs": [],
   "source": [
    "Base = sa.orm.declarative_base()\n",
    "\n",
    "class Data_STG(Base):\n",
    "    \n",
    "    \"\"\"\n",
    "    SQLAlchemy ORM class representing the 'Data_STG' table in the 'Equities' schema.\n",
    "\n",
    "    Attributes:\n",
    "        __tablename__ (str): The name of the table in the database.\n",
    "        __table_args__ (dict): Additional arguments for the table, including schema name.\n",
    "        Date (Column): The date column, part of the composite primary key.\n",
    "        Description (Column): A description column, part of the composite primary key.\n",
    "        Int_Value1 (Column): An integer column.\n",
    "        Int_Value2 (Column): Another integer column.\n",
    "    \"\"\"\n",
    "    \n",
    "    __tablename__ = 'Data_STG'\n",
    "    __table_args__ = {'schema': 'Equities'}\n",
    "    Date = sa.Column(sa.Date, primary_key=True)\n",
    "    Description = sa.Column(sa.String, primary_key=True)\n",
    "    Int_Value1 = sa.Column(sa.Integer)\n",
    "    Int_Value2 = sa.Column(sa.Integer)\n"
   ]
  },
  {
   "cell_type": "code",
   "execution_count": 15,
   "id": "ce451e5b",
   "metadata": {},
   "outputs": [],
   "source": [
    "# Clear the existing data in the Data_STG table\n",
    "clear_table(s1, 'Financial_Securities.Equities.Data_STG')"
   ]
  },
  {
   "cell_type": "code",
   "execution_count": 16,
   "id": "3b8a4b21",
   "metadata": {},
   "outputs": [],
   "source": [
    "in_file = 'C:/Users/' + username + '/Documents/Projects/Financial_Securities/Data-Source-Files/GICS_Industries.csv'  # Path to the CSV file\n",
    "\n",
    "curr_date = dt.datetime.now()  # Current date and time\n",
    "\n",
    "\n",
    "if os.path.isfile(in_file):\n",
    "    # Load the CSV file into a DataFrame\n",
    "    df_industries = pd.read_csv(in_file)\n",
    "    \n",
    "\n",
    "    # Select relevant columns\n",
    "    df_industries = df_industries[['Industry_ID', 'Industry', 'Industry_Group_ID']].drop_duplicates()\n",
    "    \n",
    "    # Iterate through the rows of the DataFrame\n",
    "    for index, row in df_industries.iterrows():\n",
    "        try:\n",
    "            # Create a new Data_STG instance for each row\n",
    "            q1 = Data_STG(\n",
    "                Date=curr_date,\n",
    "                Description=row['Industry'],\n",
    "                Int_Value1=row['Industry_ID'],\n",
    "                Int_Value2=row['Industry_Group_ID']\n",
    "            )\n",
    "            s1.add(q1)  # Add the instance to the session\n",
    "            \n",
    "        # Handle SQLAlchemy errors if they occur during adding the object    \n",
    "        except sa.exc.SQLAlchemyError as e:\n",
    "            message = f\"Issue with updating Data_STG database table for Date: {curr_date} and Industry: {row['Industry']}. Error: {e}\"\n",
    "            print(message)\n",
    "    \n",
    "    # Commit all changes to the database\n",
    "    s1.commit()\n",
    "    \n",
    "    print(\"Database data load is complete\")\n",
    "    "
   ]
  },
  {
   "cell_type": "code",
   "execution_count": 17,
   "id": "4e26bb38",
   "metadata": {},
   "outputs": [
    {
     "name": "stdout",
     "output_type": "stream",
     "text": [
      "All 74 records were loaded into the Data_STG table!\n"
     ]
    }
   ],
   "source": [
    "    # SQL query to count the number of records in the Sectors table\n",
    "    sql_stat = \"\"\"SELECT COUNT(*) FROM [Financial_Securities].[Equities].[Data_STG]\"\"\"\n",
    "\n",
    "    try: \n",
    "        result = e.execute(sql_stat)  # Execute the count query\n",
    "        cnt_recs = result.scalar()  # Get the count of records\n",
    "    \n",
    "     # Handle SQLAlchemy errors if they occur during query execution\n",
    "    except sa.exc.SQLAlchemyError as e:\n",
    "        # Print the error\n",
    "        print(f\"Issue querying Data_STG database table for count! Error: {e}\")\n",
    "\n",
    "        \n",
    "    # Compare the record counts and print the result    \n",
    "    if cnt_recs < len(df_industries):\n",
    "        print(f\"Only {cnt_recs} records out of {len(df_industries)} records were loaded into the Data_STG table!\")\n",
    "    else:\n",
    "        print(f\"All {cnt_recs} records were loaded into the Data_STG table!\")\n",
    "else:\n",
    "    print(\"File not found!\")  # Print a message if the file does not exist"
   ]
  },
  {
   "cell_type": "code",
   "execution_count": 18,
   "id": "74cc9a9e",
   "metadata": {},
   "outputs": [],
   "source": [
    "s1.close()  # Close the session"
   ]
  },
  {
   "cell_type": "code",
   "execution_count": null,
   "id": "5f1ebad3",
   "metadata": {},
   "outputs": [],
   "source": []
  }
 ],
 "metadata": {
  "kernelspec": {
   "display_name": "ib3.9 Kernel",
   "language": "python",
   "name": "ib3.9"
  },
  "language_info": {
   "codemirror_mode": {
    "name": "ipython",
    "version": 3
   },
   "file_extension": ".py",
   "mimetype": "text/x-python",
   "name": "python",
   "nbconvert_exporter": "python",
   "pygments_lexer": "ipython3",
   "version": "3.9.12"
  }
 },
 "nbformat": 4,
 "nbformat_minor": 5
}
