{
 "cells": [
  {
   "cell_type": "code",
   "execution_count": 16,
   "id": "bd901452",
   "metadata": {},
   "outputs": [],
   "source": [
    "import datetime as dt\n",
    "import sqlalchemy as sa\n",
    "import os\n",
    "import sys\n",
    "import urllib.parse as url\n",
    "import pandas as pd\n",
    "import pandas_market_calendars as mcal"
   ]
  },
  {
   "cell_type": "code",
   "execution_count": 17,
   "id": "159a1e48",
   "metadata": {},
   "outputs": [],
   "source": [
    "# Generate the date range of 3 years back and 6 years forward for the calendar\n",
    "start_date, end_date = get_dates_for_years(3, 6)"
   ]
  },
  {
   "cell_type": "code",
   "execution_count": 19,
   "id": "b191fa93",
   "metadata": {},
   "outputs": [],
   "source": [
    "def get_market_calendar(exchange, s_date, e_date, timezone):\n",
    "\n",
    "    \"\"\"\n",
    "    Fetch the market calendar schedule for a given exchange.\n",
    "\n",
    "    Args:\n",
    "        exchange (str): The exchange name (e.g., 'NYSE').\n",
    "        s_date (str): Start date in 'YYYY-MM-DD' format.\n",
    "        e_date (str): End date in 'YYYY-MM-DD' format.\n",
    "        timezone (str): Timezone for the calendar.\n",
    "\n",
    "    Returns:\n",
    "        DataFrame: DataFrame with columns Date, Open_Time, and Close_Time.\n",
    "    \"\"\"\n",
    "    \n",
    "    try:\n",
    "        # Get the calendar for the specified exchange\n",
    "        nyse = mcal.get_calendar(exchange)\n",
    "        # Fetch the schedule for the date range\n",
    "        df_tmp = nyse.schedule(start_date=s_date, end_date=e_date, tz=timezone)\n",
    "        \n",
    "        # Extract date, open time, and close time from market_open and market_close\n",
    "        df_tmp['Date'] = pd.to_datetime(df_tmp['market_open']).dt.date\n",
    "        df_tmp['Open_Time'] = pd.to_datetime(df_tmp['market_open']).dt.time\n",
    "        df_tmp['Close_Time'] = pd.to_datetime(df_tmp['market_close']).dt.time\n",
    "        \n",
    "        # Select only relevant columns\n",
    "        df_tmp = df_tmp[['Date', 'Open_Time', 'Close_Time']]\n",
    "        \n",
    "        return df_tmp\n",
    "    \n",
    "    except Exception as ex:\n",
    "        print(f\"Error fetching calendar data: {ex}\")\n",
    "        raise"
   ]
  },
  {
   "cell_type": "code",
   "execution_count": 20,
   "id": "464fc72a",
   "metadata": {},
   "outputs": [],
   "source": [
    "# Fetch the calendar data for the NYSE\n",
    "df_dates = get_calendar('NYSE', start_date, end_date, 'America/New_York')"
   ]
  },
  {
   "cell_type": "code",
   "execution_count": 21,
   "id": "7ce1a7d5",
   "metadata": {},
   "outputs": [],
   "source": [
    "# Setup connection parameters\n",
    "comp = os.environ[\"COMPUTERNAME\"]  # Get the computer name from environment variables\n",
    "dbase = \"Financial_Securities\"     # Define the name of the database\n",
    "\n",
    "username = os.getlogin()\n",
    "external_folder_path = 'C:/Users/' + username + '/Documents/Projects/Financial_Securities/Custom_Python_Functions'\n",
    "sys.path.append(external_folder_path)\n",
    "from custom_python_functions import create_connection, clear_table, get_dates_for_years\n",
    "\n",
    "\n",
    "# Create a connection to the database\n",
    "s, e = create_connection(comp, dbase, \"\", \"\")\n",
    "s1 = s()  # Instantiate a session object\n"
   ]
  },
  {
   "cell_type": "code",
   "execution_count": 22,
   "id": "466d0cd0",
   "metadata": {},
   "outputs": [],
   "source": [
    "Base = sa.orm.declarative_base()\n",
    "\n",
    "class Market_Calendar(Base):\n",
    "    \n",
    "    \"\"\"\n",
    "    SQLAlchemy ORM class representing the 'Market_Calendar' table in the 'Equities' schema.\n",
    "\n",
    "    Attributes:\n",
    "        __tablename__ (str): The name of the table.\n",
    "        __table_args__ (dict): Additional arguments for the table, including schema name.\n",
    "        Country (Column): Country or exchange code.\n",
    "        Date (Column): The date of the market schedule.\n",
    "        Open_Time (Column): Market open time.\n",
    "        Close_Time (Column): Market close time.\n",
    "    \"\"\"    \n",
    "    \n",
    "    __tablename__ = 'Market_Calendar'\n",
    "    __table_args__ = {'schema': 'Equities'}\n",
    "    Country = sa.Column(sa.String, primary_key=True)\n",
    "    Date = sa.Column(sa.Date, primary_key=True)\n",
    "    Open_Time = sa.Column('Open_Time', sa.Time)\n",
    "    Close_Time = sa.Column('Close_Time', sa.Time)"
   ]
  },
  {
   "cell_type": "code",
   "execution_count": 23,
   "id": "307b89d0",
   "metadata": {},
   "outputs": [],
   "source": [
    "country = \"United States\" # Set the country to be United States\n",
    "\n",
    "# Process each row in the DataFrame\n",
    "try:\n",
    "    for index, row in df_dates.iterrows():\n",
    "        \n",
    "        # Query the 'Market_Calendar' table to find records where the 'Country\" column matches country variable and the \n",
    "        # 'Date' column matches the value in the DataFrame's 'Date' row\n",
    "        q1 = s1.query(Market_Calendar).filter(Market_Calendar.Country == country, Market_Calendar.Date == row['Date'])\n",
    "        \n",
    "        # Check if any records were found with the specified 'Country' and 'Date'\n",
    "        if (q1.count() >= 1):\n",
    "            # If one or more records are found, get the first matching record\n",
    "            q1 = s1.query(Market_Calendar).filter(Market_Calendar.Country == country, Market_Calendar.Date == row['Date']).first()\n",
    "            # Update existing record\n",
    "            q1.Open_Time = row['Open_Time']\n",
    "            q1.Close_Time = row['Close_Time']\n",
    "        else:\n",
    "            # Create new record\n",
    "            q1 = Market_Calendar(\n",
    "                Country=country,\n",
    "                Date=row['Date'],\n",
    "                Open_Time=row['Open_Time'],\n",
    "                Close_Time=row['Close_Time']\n",
    "            )\n",
    "            s1.add(q1)\n",
    "\n",
    "# Handle SQLAlchemy errors\n",
    "except sa.exc.SQLAlchemyError as e:\n",
    "    message = f\"Issue with updating Market_Calendar database table for Date: {row['Date']}. Error: {e}\"\n",
    "    print(message)\n",
    "    s1.rollback()  # Rollback changes on error\n",
    "    raise\n",
    "\n",
    "# Commit the changes to the database\n",
    "s1.commit()\n",
    "\n",
    "print(\"Database data load is complete\")\n"
   ]
  },
  {
   "cell_type": "code",
   "execution_count": 24,
   "id": "1b9b9848",
   "metadata": {},
   "outputs": [
    {
     "name": "stdout",
     "output_type": "stream",
     "text": [
      "All 2511 records were loaded into Market_Calendar database table!\n"
     ]
    }
   ],
   "source": [
    "# Execute SQL query to count the number of records in the Market_Calendar table\n",
    "sql_stat = \"\"\"SELECT COUNT(*) FROM [Financial_Securities].[Equities].[Market_Calendar]\"\"\"\n",
    "try:\n",
    "    result = e.execute(sql_stat)\n",
    "    cnt_recs = result.scalar()\n",
    "    \n",
    "# Handle errors querying the Market_Calendar table\n",
    "except sa.exc.SQLAlchemyError as e:\n",
    "    print(f\"Issue querying Market_Calendar database table for count! Error: {e}\")\n",
    "    \n",
    "# Compare the number of records in the database with the number of records in the DataFrame\n",
    "if cnt_recs < len(df_dates):\n",
    "    print(f\"Only {cnt_recs} of {len(df_dates)} records were loaded into Market_Calendar database table!\")\n",
    "else:\n",
    "    print(f\"All {cnt_recs} records were loaded into Market_Calendar database table!\")  "
   ]
  },
  {
   "cell_type": "code",
   "execution_count": null,
   "id": "d9a5b6d0",
   "metadata": {},
   "outputs": [],
   "source": [
    "s1.close()  # Close the session"
   ]
  }
 ],
 "metadata": {
  "kernelspec": {
   "display_name": "ib3.9 Kernel",
   "language": "python",
   "name": "ib3.9"
  },
  "language_info": {
   "codemirror_mode": {
    "name": "ipython",
    "version": 3
   },
   "file_extension": ".py",
   "mimetype": "text/x-python",
   "name": "python",
   "nbconvert_exporter": "python",
   "pygments_lexer": "ipython3",
   "version": "3.9.12"
  }
 },
 "nbformat": 4,
 "nbformat_minor": 5
}
