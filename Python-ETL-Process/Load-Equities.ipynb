{
 "cells": [
  {
   "cell_type": "code",
   "execution_count": 1,
   "id": "e8e460e1",
   "metadata": {},
   "outputs": [],
   "source": [
    "import sqlalchemy as sa\n",
    "import os\n",
    "import sys\n",
    "import urllib.parse as url\n",
    "import pandas as pd"
   ]
  },
  {
   "cell_type": "code",
   "execution_count": 2,
   "id": "1c0c8e03",
   "metadata": {},
   "outputs": [],
   "source": [
    "username = os.getlogin()\n",
    "external_folder_path = 'C:/Users/' + username + '/Documents/Projects/Financial_Securities/Custom_Python_Functions/'\n",
    "sys.path.append(external_folder_path)\n",
    "from custom_python_functions import create_connection, load_key, decrypt\n",
    "\n",
    "key1 = 'user_key.ky'\n",
    "key_file1 = 'user_key.txt'\n",
    "key2 = 'pass_key.ky'\n",
    "key_file2 = 'pass_key.txt'\n",
    "\n",
    "key1 = load_key(external_folder_path, key1)\n",
    "uid = decrypt(external_folder_path, key_file1, key1)\n",
    "\n",
    "key2 = load_key(external_folder_path, key2)\n",
    "passwd = decrypt(external_folder_path, key_file2, key2)\n",
    "\n",
    "# Setup connection parameters\n",
    "server = 'danvuk.database.windows.net'\n",
    "dbase = 'Financial_Securities'\n",
    "\n",
    "# Create a connection to the database\n",
    "s, e = create_connection(server, dbase, uid, passwd)\n",
    "s1 = s()  # Instantiate a session object"
   ]
  },
  {
   "cell_type": "code",
   "execution_count": 3,
   "id": "a26a859f",
   "metadata": {},
   "outputs": [],
   "source": [
    "Base = sa.orm.declarative_base()\n",
    "\n",
    "class Equities(Base):\n",
    "    \n",
    "    \"\"\"\n",
    "    SQLAlchemy ORM class representing the 'Equities' table in the 'Equities' schema.\n",
    "\n",
    "    Attributes:\n",
    "    __tablename__ (str): The name of the table in the database.\n",
    "    __table_args__ (dict): Additional arguments for the table, including schema name.\n",
    "    Ticker_ID (Column): A unique identifier for each equity; part of the primary key.\n",
    "    Ticker (Column): The ticker symbol of the equity.\n",
    "    Name (Column): The name of the equity.\n",
    "    Sub_Industry_ID (Column): The Sub-Industry_ID of the ticker.\n",
    "    \"\"\"\n",
    "    \n",
    "    __tablename__ = 'Equities'\n",
    "    __table_args__ = {'schema': 'Equities'}\n",
    "    Ticker_ID = sa.Column(sa.Integer, primary_key=True)\n",
    "    Ticker = sa.Column(sa.String)\n",
    "    Name = sa.Column(sa.String)\n",
    "    Sub_Industry_ID = sa.Column(sa.Integer)"
   ]
  },
  {
   "cell_type": "code",
   "execution_count": 4,
   "id": "dbb025ba",
   "metadata": {},
   "outputs": [],
   "source": [
    "# SQL query to select and trim description fields from the Data_STG table\n",
    "sql_stat = \"\"\"SELECT \n",
    "               TRIM(Description) AS Description, \n",
    "               TRIM(Description2) AS Description2,\n",
    "               Int_Value1\n",
    "              FROM [Financial_Securities].[Equities].[Data_STG]\n",
    "              ORDER BY Description\"\"\"\n",
    "\n",
    "try:              \n",
    "    df_equities = pd.read_sql(sql_stat, s1.bind)   # Execute the SQL query through the session and bind the data to the df_equities dataframe\n",
    "\n",
    "    \n",
    "# Handle SQLAlchemy errors if they occur during query execution\n",
    "except sa.exc.SQLAlchemyError as e:\n",
    "        # Print the error\n",
    "        print(f\"Issue querying Data_STG database table for count! Error: {e}\")\n",
    "        s1.close()  # Close the session\n",
    "        raise  # Re-raise the exception to propagate the error"
   ]
  },
  {
   "cell_type": "code",
   "execution_count": 5,
   "id": "76766fd9",
   "metadata": {},
   "outputs": [
    {
     "name": "stdout",
     "output_type": "stream",
     "text": [
      "Database data load is complete\n"
     ]
    }
   ],
   "source": [
    "for index, row in df_equities.iterrows():\n",
    "    try:\n",
    "        \n",
    "        # Query the 'Equities' table to find records where the 'Ticker' column matches the value in the DataFrame's 'Description' column\n",
    "        q1 = s1.query(Equities).filter(Equities.Ticker == row.Description)\n",
    "\n",
    "        # Check if any records were found with the specified 'Ticker'\n",
    "        if (q1.count() >= 1):\n",
    "            # If one or more records are found, get the first matching record\n",
    "            q1 = s1.query(Equities).filter(Equities.Ticker == row.Description).first()\n",
    "            # Update the 'Name' attribute of the found record with the value from the DataFrame's 'Description2' column\n",
    "            q1.Name=row['Description2']\n",
    "            # Update the 'Sub_Industry_ID' attribute of the found record with the value from the DataFrame's 'Int_Value1' column\n",
    "            q1.Sub_Industry_ID=row['Int_Value1']\n",
    "            \n",
    "        else:\n",
    "            \n",
    "            # Create a new Equities object for each row in df_equities dataframe\n",
    "            q1 = Equities(\n",
    "                Ticker=row['Description'],\n",
    "                Name=row['Description2'],\n",
    "                Sub_Industry_ID=row['Int_Value1']\n",
    "            )\n",
    "            s1.add(q1)  # Add the instance to the session\n",
    "    \n",
    "     # Handle SQLAlchemy errors if they occur during adding the object\n",
    "    except sa.exc.SQLAlchemyError as e:\n",
    "        message = f\"Issue with updating Equities database table for Ticker: {row.Description}. Error: {e}\"\n",
    "        print(message)\n",
    "        s1.close()  # Close the session\n",
    "        raise  # Re-raise the exception to propagate the error\n",
    "        \n",
    "s1.commit()  # Commit the transactions to the database\n",
    "\n",
    "print(\"Database data load is complete\")\n"
   ]
  },
  {
   "cell_type": "code",
   "execution_count": 6,
   "id": "d5abb0e5",
   "metadata": {},
   "outputs": [
    {
     "name": "stdout",
     "output_type": "stream",
     "text": [
      "All 503 records were loaded into Equities database table!\n"
     ]
    }
   ],
   "source": [
    "# SQL query to count the number of records in the Data_STG table\n",
    "sql_stat2 = \"\"\"SELECT COUNT(*) FROM [Financial_Securities].[Equities].[Data_STG]\"\"\"\n",
    "          \n",
    "try: \n",
    "    result1 = e.execute(sql_stat2)  # Execute the count query\n",
    "    cnt_recs1 = result1.scalar()  # Get the count of records\n",
    "    \n",
    "# Handle SQLAlchemy errors if they occur during query execution\n",
    "except sa.exc.SQLAlchemyError as e:\n",
    "    print(f\"Issue querying Data_STG database table for count! Error: {e}\")\n",
    "\n",
    "\n",
    "# SQL query to count the number of records in the Equities table\n",
    "sql_stat3 = \"\"\"SELECT COUNT(*) FROM [Financial_Securities].[Equities].[Equities]\"\"\"\n",
    "              \n",
    "try: \n",
    "    result1 = e.execute(sql_stat3)  # Execute the count query\n",
    "    cnt_recs2 = result1.scalar()  # Get the count of records\n",
    "    \n",
    "# Handle SQLAlchemy errors if they occur during query execution\n",
    "except sa.exc.SQLAlchemyError as e:   \n",
    "    print(f\"Issue querying Sub_Industries database table for count! Error: {e}\")\n",
    "\n",
    "# Compare the record counts and print the result\n",
    "if cnt_recs2 < cnt_recs1:\n",
    "    print(f\"Only {cnt_recs2} of {cnt_recs1} records were loaded into Equities database table!\")\n",
    "else:\n",
    "    print(f\"All {cnt_recs2} records were loaded into Equities database table!\") "
   ]
  },
  {
   "cell_type": "code",
   "execution_count": 7,
   "id": "81a945b9",
   "metadata": {},
   "outputs": [],
   "source": [
    "s1.close()  # Close the session"
   ]
  }
 ],
 "metadata": {
  "kernelspec": {
   "display_name": "ib3.9 Kernel",
   "language": "python",
   "name": "ib3.9"
  },
  "language_info": {
   "codemirror_mode": {
    "name": "ipython",
    "version": 3
   },
   "file_extension": ".py",
   "mimetype": "text/x-python",
   "name": "python",
   "nbconvert_exporter": "python",
   "pygments_lexer": "ipython3",
   "version": "3.9.12"
  }
 },
 "nbformat": 4,
 "nbformat_minor": 5
}
