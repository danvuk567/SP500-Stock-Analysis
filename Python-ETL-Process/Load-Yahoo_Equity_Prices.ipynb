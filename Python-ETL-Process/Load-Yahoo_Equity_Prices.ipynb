{
 "cells": [
  {
   "cell_type": "code",
   "execution_count": 1,
   "id": "5c2dcc1c",
   "metadata": {},
   "outputs": [],
   "source": [
    "import sqlalchemy as sa\n",
    "import os\n",
    "import sys\n",
    "import urllib.parse as url\n",
    "import pandas as pd"
   ]
  },
  {
   "cell_type": "code",
   "execution_count": 2,
   "id": "e265889b",
   "metadata": {},
   "outputs": [],
   "source": [
    "username = os.getlogin()\n",
    "external_folder_path = 'C:/Users/' + username + '/Documents/Projects/Financial_Securities/Custom_Python_Functions/'\n",
    "sys.path.append(external_folder_path)\n",
    "from custom_python_functions import create_connection, load_key, decrypt\n",
    "\n",
    "key1 = 'user_key.ky'\n",
    "key_file1 = 'user_key.txt'\n",
    "key2 = 'pass_key.ky'\n",
    "key_file2 = 'pass_key.txt'\n",
    "\n",
    "key1 = load_key(external_folder_path, key1)\n",
    "uid = decrypt(external_folder_path, key_file1, key1)\n",
    "\n",
    "key2 = load_key(external_folder_path, key2)\n",
    "passwd = decrypt(external_folder_path, key_file2, key2)\n",
    "\n",
    "# Setup connection parameters\n",
    "server = 'danvuk.database.windows.net'\n",
    "dbase = 'Financial_Securities'\n",
    "\n",
    "# Create a connection to the database\n",
    "s, e = create_connection(server, dbase, uid, passwd)\n",
    "s1 = s()  # Instantiate a session object\n"
   ]
  },
  {
   "cell_type": "code",
   "execution_count": 3,
   "id": "3d4a7952",
   "metadata": {},
   "outputs": [],
   "source": [
    "Base = sa.orm.declarative_base()\n",
    "\n",
    "class Yahoo_Equity_Prices(Base):\n",
    "    \n",
    "    \"\"\"\n",
    "    SQLAlchemy ORM class representing the 'Yahoo_Equity_Prices' table in the 'Equities' schema.\n",
    "\n",
    "    Attributes:\n",
    "    __tablename__ (str): The name of the table in the database.\n",
    "    __table_args__ (dict): Additional arguments for the table, including schema name.\n",
    "    Date (Column): The date of the equity price record; part of the composite primary key.\n",
    "    Ticker_ID (Column): A unique identifier for each equity; part of the composite primary key.\n",
    "    Open (Column): The opening price of the equity on the given date.\n",
    "    High (Column): The highest price of the equity on the given date.\n",
    "    Low (Column): The lowest price of the equity on the given date.\n",
    "    Close (Column): The closing price of the equity on the given date.\n",
    "    Volume (Column): The trading volume of the equity on the given date.\n",
    "    \"\"\"\n",
    "    __tablename__ = 'Yahoo_Equity_Prices'\n",
    "    __table_args__ = {'schema': 'Equities'}\n",
    "    Date=sa.Column('Date', sa.Date, primary_key=True)\n",
    "    Ticker_ID=sa.Column('Ticker_ID', sa.Integer, primary_key=True)\n",
    "    Open=sa.Column('Open', sa.Float)\n",
    "    High=sa.Column('High', sa.Float)\n",
    "    Low=sa.Column('Low', sa.Float)\n",
    "    Close=sa.Column('Close', sa.Float)\n",
    "    Volume=sa.Column('Volume', sa.BigInteger)"
   ]
  },
  {
   "cell_type": "code",
   "execution_count": 4,
   "id": "2a90ee92",
   "metadata": {},
   "outputs": [
    {
     "name": "stdout",
     "output_type": "stream",
     "text": [
      "Query data load is complete\n"
     ]
    }
   ],
   "source": [
    "# SQL query to get the Ticker_ID, Ticker and pricing data from Data_STG and Equities tables\n",
    "# and joined with Market_Calendar to get all possible dates in case there are missing dates\n",
    "# between the bounds of the existing pricing dates for each Ticker.\n",
    "sql_stat = \"\"\"WITH q1 AS \n",
    "(SELECT\n",
    " Description, \n",
    " CAST(MIN(Date) AS Date) AS Min_Date,\n",
    " CAST(MAX(Date) AS Date) AS Max_Date\n",
    "FROM [Financial_Securities].[Equities].[Data_STG]\n",
    "GROUP BY Description),\n",
    "q2 AS\n",
    "(SELECT\n",
    " q3.Ticker_ID,\n",
    " q3.Ticker,\n",
    " q4.Date\n",
    "FROM\n",
    "[Financial_Securities].[Equities].[Equities] q3,\n",
    "[Financial_Securities].[Equities].[Market_Calendar] q4),\n",
    "q5 AS\n",
    "(SELECT \n",
    " q2.Ticker_ID,\n",
    " q2.Ticker,\n",
    " q2.Date \n",
    "FROM q2\n",
    "INNER JOIN q1\n",
    "ON q1.Description = q2.Ticker\n",
    "AND q2.Date BETWEEN q1.Min_Date AND q1.Max_Date)\n",
    "SELECT \n",
    " q5.Ticker_ID,\n",
    " q5.Ticker,\n",
    " q5.Date,\n",
    " ROUND(q7.Float_Value1, 2) AS Float_Value1,\n",
    " ROUND(q7.Float_Value2, 2) AS Float_Value2, \n",
    " ROUND(q7.Float_Value3, 2) AS Float_Value3, \n",
    " ROUND(q7.Float_Value4, 2) AS Float_Value4, \n",
    " q7.Int_Value1\n",
    "FROM q5\n",
    "LEFT OUTER JOIN [Financial_Securities].[Equities].[Data_STG] q7\n",
    "ON q5.Ticker = q7.Description\n",
    "AND q5.Date = CAST(q7.Date AS Date)\n",
    "ORDER BY q5.Ticker_ID, q5.Date\n",
    "\"\"\"\n",
    "                                                                    \n",
    "try:              \n",
    "    df_pricing = pd.read_sql(sql_stat, s1.bind) # Execute the SQL query through the session and bind the data to the df_pricing dataframe\n",
    "    \n",
    "# Handle SQLAlchemy errors if they occur during query execution\n",
    "except sa.exc.SQLAlchemyError as e:\n",
    "    print(f\"Issue querying database tables! Error: {e}\")\n",
    "    s1.close()  # Close the session\n",
    "    raise  # Re-raise the exception to propagate the error\n",
    "    \n",
    "print(\"Query data load is complete\")"
   ]
  },
  {
   "cell_type": "code",
   "execution_count": 5,
   "id": "64716278",
   "metadata": {},
   "outputs": [],
   "source": [
    "# Let's sort and forward fill any pricing data that is missing for dates in the\n",
    "# Market Calendar within the bounds of the existing pricing dates for each Ticker\n",
    "df_pricing.sort_values(by=['Ticker_ID', 'Date'], inplace=True)\n",
    "df_pricing[['Float_Value1', 'Float_Value2', 'Float_Value3', 'Float_Value4']] = df_pricing.groupby('Ticker_ID')[['Float_Value1', 'Float_Value2', 'Float_Value3', 'Float_Value4']].ffill()"
   ]
  },
  {
   "cell_type": "code",
   "execution_count": 6,
   "id": "ab95ac11",
   "metadata": {},
   "outputs": [
    {
     "name": "stdout",
     "output_type": "stream",
     "text": [
      "Database data load is complete\n"
     ]
    }
   ],
   "source": [
    "for index, row in df_pricing.iterrows():\n",
    "    try:\n",
    "        \n",
    "        # Query the 'Yahoo_Equity_Prices' table to find records where the 'Date' column matches the value in the DataFrame's 'Date' row\n",
    "        # and the 'Ticker_ID' column matches the value in the DataFrame's 'Ticker_ID' row\n",
    "        q1 = s1.query(Yahoo_Equity_Prices).filter(Yahoo_Equity_Prices.Date == row.Date, Yahoo_Equity_Prices.Ticker_ID == row.Ticker_ID)\n",
    "\n",
    "        # Check if any records were found with the specified 'Date' and 'Ticker_ID'\n",
    "        if (q1.count() >= 1):\n",
    "            # If one or more records are found, get the first matching record\n",
    "            q1 = s1.query(Yahoo_Equity_Prices).filter(Yahoo_Equity_Prices.Date == row.Date, Yahoo_Equity_Prices.Ticker_ID == row.Ticker_ID).first()\n",
    "            # Update the pricing attributes of the found record with the values from the DataFrame's pricing columns\n",
    "            q1.Open=row['Float_Value1']\n",
    "            q1.High=row['Float_Value2']\n",
    "            q1.Low=row['Float_Value3']\n",
    "            q1.Close= row['Float_Value4']\n",
    "            q1.Volume=row['Int_Value1']\n",
    "            \n",
    "        else:\n",
    "            \n",
    "            # Create a new Yahoo_Equity_Prices object for each row in df_pricing dataframe\n",
    "            q1 = Yahoo_Equity_Prices(\n",
    "                Ticker_ID=row['Ticker_ID'],\n",
    "                Date=row['Date'],\n",
    "                Open=row['Float_Value1'],\n",
    "                High=row['Float_Value2'],\n",
    "                Low=row['Float_Value3'],\n",
    "                Close=row['Float_Value4'],\n",
    "                Volume=row['Int_Value1']\n",
    "            )\n",
    "    \n",
    "            s1.add(q1)  # Add the instance to the session\n",
    "        \n",
    "    # Handle SQLAlchemy errors if they occur during adding the object\n",
    "    except sa.exc.SQLAlchemyError as e:\n",
    "        message = f\"Issue with updating Yahoo_Equity_Prices database table for Ticker: {row.Ticker}. Error: {e}\"\n",
    "        print(message)\n",
    "        s1.close()  # Close the session\n",
    "        raise  # Re-raise the exception to propagate the error\n",
    "\n",
    "s1.commit() # Commit the transactions to the database\n",
    "\n",
    "print(\"Database data load is complete\")\n"
   ]
  },
  {
   "cell_type": "code",
   "execution_count": 7,
   "id": "887ec822",
   "metadata": {},
   "outputs": [
    {
     "name": "stdout",
     "output_type": "stream",
     "text": [
      "All 465762 records were loaded into Yahoo_Equity_Prices database table!\n"
     ]
    }
   ],
   "source": [
    "# SQL query to count the number of records in the Data_STG table\n",
    "sql_stat2 = \"\"\"SELECT COUNT(*) FROM [Financial_Securities].[Equities].[Data_STG]\"\"\"\n",
    "          \n",
    "try: \n",
    "    result1 = e.execute(sql_stat2)  # Execute the count query\n",
    "    cnt_recs1 = result1.scalar()  # Get the count of records\n",
    "    \n",
    "# Handle SQLAlchemy errors if they occur during query execution\n",
    "except sa.exc.SQLAlchemyError as e:\n",
    "    print(f\"Issue querying Data_STG database table for count! Error: {e}\")\n",
    "\n",
    "\n",
    "# SQL query to count the number of records in the Yahoo_Equity_Prices table\n",
    "sql_stat3 = \"\"\"SELECT COUNT(*) FROM [Financial_Securities].[Equities].[Yahoo_Equity_Prices]\"\"\"\n",
    "              \n",
    "try: \n",
    "    result1 = e.execute(sql_stat3)  # Execute the count query\n",
    "    cnt_recs2 = result1.scalar()  # Get the count of records\n",
    "    \n",
    "# Handle SQLAlchemy errors if they occur during query execution\n",
    "except sa.exc.SQLAlchemyError as e:   \n",
    "    print(f\"Issue querying Sub_Industries database table for count! Error: {e}\")\n",
    "\n",
    "# Compare the record counts and print the result\n",
    "if cnt_recs2 < cnt_recs1:\n",
    "    print(f\"Only {cnt_recs2} of {cnt_recs1} records were loaded into Yahoo_Equity_Prices database table!\")\n",
    "else:\n",
    "    print(f\"All {cnt_recs2} records were loaded into Yahoo_Equity_Prices database table!\") \n",
    "    "
   ]
  },
  {
   "cell_type": "code",
   "execution_count": 8,
   "id": "90c1e418",
   "metadata": {},
   "outputs": [],
   "source": [
    "s1.close()  # Close the session"
   ]
  }
 ],
 "metadata": {
  "kernelspec": {
   "display_name": "ib3.9 Kernel",
   "language": "python",
   "name": "ib3.9"
  },
  "language_info": {
   "codemirror_mode": {
    "name": "ipython",
    "version": 3
   },
   "file_extension": ".py",
   "mimetype": "text/x-python",
   "name": "python",
   "nbconvert_exporter": "python",
   "pygments_lexer": "ipython3",
   "version": "3.9.12"
  }
 },
 "nbformat": 4,
 "nbformat_minor": 5
}
