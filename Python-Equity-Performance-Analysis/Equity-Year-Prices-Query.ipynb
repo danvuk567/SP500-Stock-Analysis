{
 "cells": [
  {
   "cell_type": "code",
   "execution_count": 1,
   "id": "fdacee2d",
   "metadata": {},
   "outputs": [],
   "source": [
    "import datetime as dt\n",
    "import os\n",
    "import sys\n",
    "import sqlalchemy as sa\n",
    "import pandas as pd"
   ]
  },
  {
   "cell_type": "code",
   "execution_count": 2,
   "id": "72385c90",
   "metadata": {},
   "outputs": [],
   "source": [
    "# Setup connection parameters\n",
    "comp = os.environ[\"COMPUTERNAME\"]  # Get the computer name from environment variables\n",
    "dbase = \"Financial_Securities\"     # Define the name of the database\n",
    "\n",
    "username = os.getlogin()\n",
    "external_folder_path = 'C:/Users/' + username + '/Documents/Projects/Financial_Securities/Custom_Python_Functions'\n",
    "sys.path.append(external_folder_path)\n",
    "from custom_python_functions import create_connection, get_pricing_data, plot_pricing_candlestick\n",
    "\n",
    "\n",
    "# Create a connection to the database\n",
    "s, e = create_connection(comp, dbase, \"\", \"\")\n",
    "s1 = s()  # Instantiate a session object"
   ]
  },
  {
   "cell_type": "code",
   "execution_count": 3,
   "id": "deffb758",
   "metadata": {},
   "outputs": [],
   "source": [
    "# Define SQL query to retrieve tickers from the Yahoo_Equity_Prices table\n",
    "sql_stat = \"\"\"SELECT \n",
    "        TRIM(q2.Ticker) AS Ticker,\n",
    "        q1.Date,\n",
    "        ROUND(q1.[Open], 2) AS \"Open\",\n",
    "        ROUND(q1.[High], 2) AS \"High\",\n",
    "        ROUND(q1.[Low], 2) AS \"Low\",\n",
    "        ROUND(q1.[Close], 2) AS \"Close\",\n",
    "        q1.Volume AS \"Volume\"\n",
    "FROM [Financial_Securities].[Equities].[Yahoo_Equity_Prices] q1\n",
    "INNER JOIN [Financial_Securities].[Equities].[Equities] q2\n",
    "ON q1.Ticker_ID = q2.Ticker_ID\n",
    "ORDER BY q2.Ticker, q1.Date\n",
    "\"\"\"\n",
    "\n",
    "try:\n",
    "    # Execute the SQL query and read the results into a DataFrame\n",
    "    df_pricing = pd.read_sql(sql_stat, s1.bind)\n",
    "    \n",
    "except sa.exc.SQLAlchemyError as e:\n",
    "    # Handle exceptions during SQL query execution\n",
    "    print(f\"Issue querying database tables! Error: {e}\")\n",
    "    s1.close()\n",
    "    raise"
   ]
  },
  {
   "cell_type": "code",
   "execution_count": 4,
   "id": "80f8c215",
   "metadata": {},
   "outputs": [
    {
     "data": {
      "text/html": [
       "<div>\n",
       "<style scoped>\n",
       "    .dataframe tbody tr th:only-of-type {\n",
       "        vertical-align: middle;\n",
       "    }\n",
       "\n",
       "    .dataframe tbody tr th {\n",
       "        vertical-align: top;\n",
       "    }\n",
       "\n",
       "    .dataframe thead th {\n",
       "        text-align: right;\n",
       "    }\n",
       "</style>\n",
       "<table border=\"1\" class=\"dataframe\">\n",
       "  <thead>\n",
       "    <tr style=\"text-align: right;\">\n",
       "      <th></th>\n",
       "      <th>Ticker</th>\n",
       "      <th>Date</th>\n",
       "      <th>Open</th>\n",
       "      <th>High</th>\n",
       "      <th>Low</th>\n",
       "      <th>Close</th>\n",
       "      <th>Volume</th>\n",
       "    </tr>\n",
       "  </thead>\n",
       "  <tbody>\n",
       "    <tr>\n",
       "      <th>0</th>\n",
       "      <td>A</td>\n",
       "      <td>2021-01-04</td>\n",
       "      <td>118.94</td>\n",
       "      <td>120.09</td>\n",
       "      <td>117.11</td>\n",
       "      <td>115.98</td>\n",
       "      <td>2030700</td>\n",
       "    </tr>\n",
       "    <tr>\n",
       "      <th>1</th>\n",
       "      <td>A</td>\n",
       "      <td>2021-01-05</td>\n",
       "      <td>118.48</td>\n",
       "      <td>120.32</td>\n",
       "      <td>118.07</td>\n",
       "      <td>116.93</td>\n",
       "      <td>2344000</td>\n",
       "    </tr>\n",
       "    <tr>\n",
       "      <th>2</th>\n",
       "      <td>A</td>\n",
       "      <td>2021-01-06</td>\n",
       "      <td>118.69</td>\n",
       "      <td>123.88</td>\n",
       "      <td>118.21</td>\n",
       "      <td>120.14</td>\n",
       "      <td>2428500</td>\n",
       "    </tr>\n",
       "    <tr>\n",
       "      <th>3</th>\n",
       "      <td>A</td>\n",
       "      <td>2021-01-07</td>\n",
       "      <td>124.33</td>\n",
       "      <td>127.48</td>\n",
       "      <td>124.11</td>\n",
       "      <td>123.33</td>\n",
       "      <td>1775900</td>\n",
       "    </tr>\n",
       "    <tr>\n",
       "      <th>4</th>\n",
       "      <td>A</td>\n",
       "      <td>2021-01-08</td>\n",
       "      <td>126.49</td>\n",
       "      <td>127.64</td>\n",
       "      <td>125.85</td>\n",
       "      <td>124.21</td>\n",
       "      <td>1577200</td>\n",
       "    </tr>\n",
       "  </tbody>\n",
       "</table>\n",
       "</div>"
      ],
      "text/plain": [
       "  Ticker        Date    Open    High     Low   Close   Volume\n",
       "0      A  2021-01-04  118.94  120.09  117.11  115.98  2030700\n",
       "1      A  2021-01-05  118.48  120.32  118.07  116.93  2344000\n",
       "2      A  2021-01-06  118.69  123.88  118.21  120.14  2428500\n",
       "3      A  2021-01-07  124.33  127.48  124.11  123.33  1775900\n",
       "4      A  2021-01-08  126.49  127.64  125.85  124.21  1577200"
      ]
     },
     "execution_count": 4,
     "metadata": {},
     "output_type": "execute_result"
    }
   ],
   "source": [
    "df_pricing.head()"
   ]
  },
  {
   "cell_type": "code",
   "execution_count": 5,
   "id": "dcca2076",
   "metadata": {},
   "outputs": [
    {
     "name": "stdout",
     "output_type": "stream",
     "text": [
      "<class 'pandas.core.frame.DataFrame'>\n",
      "RangeIndex: 465762 entries, 0 to 465761\n",
      "Data columns (total 7 columns):\n",
      " #   Column  Non-Null Count   Dtype  \n",
      "---  ------  --------------   -----  \n",
      " 0   Ticker  465762 non-null  object \n",
      " 1   Date    465762 non-null  object \n",
      " 2   Open    465762 non-null  float64\n",
      " 3   High    465762 non-null  float64\n",
      " 4   Low     465762 non-null  float64\n",
      " 5   Close   465762 non-null  float64\n",
      " 6   Volume  465762 non-null  int64  \n",
      "dtypes: float64(4), int64(1), object(2)\n",
      "memory usage: 24.9+ MB\n"
     ]
    }
   ],
   "source": [
    "df_pricing.info()"
   ]
  },
  {
   "cell_type": "code",
   "execution_count": 9,
   "id": "ceedcb2f",
   "metadata": {},
   "outputs": [
    {
     "name": "stdout",
     "output_type": "stream",
     "text": [
      "Ticker  Year       Date   Open   High    Low  Close   Volume\n",
      "  MSFT  2021 2021-12-31 222.53 349.67 211.94 328.47 18000800\n",
      "  MSFT  2022 2022-12-30 335.35 338.00 213.43 236.42 21938500\n",
      "  MSFT  2023 2023-12-29 243.08 384.30 219.35 374.00 18723000\n",
      "  MSFT  2024 2024-09-20 373.86 468.35 366.50 435.27 55167100\n"
     ]
    }
   ],
   "source": [
    "if df_pricing.empty:\n",
    "    print(\"DataFrame is empty after SQL query.\")\n",
    "    \n",
    "else:\n",
    "    df_pricing['Date'] = pd.to_datetime(df_pricing['Date'])\n",
    "    df_pricing['Year'] = df_pricing['Date'].dt.year\n",
    "    df_pricing.sort_values(by=['Ticker', 'Date'], inplace=True)\n",
    "\n",
    "    # Default Ticker used in single ticker analysis\n",
    "    ticker = 'MSFT'\n",
    "\n",
    "    df_pricing_yr = get_pricing_data(df_pricing, 'Year') \n",
    "    df_pricing_yr_ticker = df_pricing_yr[df_pricing_yr['Ticker'] == ticker].copy()\n",
    "    df_pricing_yr_ticker.sort_values(by=['Date'], inplace=True)\n",
    "\n",
    "    # Print yearly pricing data\n",
    "    print(df_pricing_yr_ticker.to_string(index=False))\n",
    "    \n",
    "    plot_pricing_candlestick(df_pricing_yr_ticker, ticker, 'Year')"
   ]
  },
  {
   "cell_type": "code",
   "execution_count": 8,
   "id": "6c8a99df",
   "metadata": {},
   "outputs": [],
   "source": [
    "s1.close()"
   ]
  },
  {
   "cell_type": "code",
   "execution_count": null,
   "id": "6f1b19e5",
   "metadata": {},
   "outputs": [],
   "source": []
  }
 ],
 "metadata": {
  "kernelspec": {
   "display_name": "ib3.9 Kernel",
   "language": "python",
   "name": "ib3.9"
  },
  "language_info": {
   "codemirror_mode": {
    "name": "ipython",
    "version": 3
   },
   "file_extension": ".py",
   "mimetype": "text/x-python",
   "name": "python",
   "nbconvert_exporter": "python",
   "pygments_lexer": "ipython3",
   "version": "3.9.12"
  }
 },
 "nbformat": 4,
 "nbformat_minor": 5
}
